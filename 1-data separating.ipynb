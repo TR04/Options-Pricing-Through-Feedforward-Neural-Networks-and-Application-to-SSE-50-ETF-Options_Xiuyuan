{
 "cells": [
  {
   "cell_type": "code",
   "execution_count": 1,
   "id": "placed-journalism",
   "metadata": {},
   "outputs": [],
   "source": [
    "import pandas as pd\n",
    "import numpy as np\n",
    "import time  \n",
    "import datetime \n",
    "import math"
   ]
  },
  {
   "cell_type": "code",
   "execution_count": 28,
   "id": "coupled-sewing",
   "metadata": {},
   "outputs": [
    {
     "data": {
      "text/plain": [
       "(176428, 29)"
      ]
     },
     "execution_count": 28,
     "metadata": {},
     "output_type": "execute_result"
    }
   ],
   "source": [
    "option_data = pd.read_csv(\"paper_data_full.csv\")"
   ]
  },
  {
   "cell_type": "code",
   "execution_count": 30,
   "id": "current-delaware",
   "metadata": {},
   "outputs": [],
   "source": [
    "option_data = option_data.sample(frac=1)"
   ]
  },
  {
   "cell_type": "code",
   "execution_count": 33,
   "id": "increased-simple",
   "metadata": {},
   "outputs": [
    {
     "name": "stdout",
     "output_type": "stream",
     "text": [
      "Train size: 141142\n",
      "Test size: 35286\n"
     ]
    }
   ],
   "source": [
    "train_size = int(len(option_data)*0.8)\n",
    "print(\"Train size: %d\" % train_size)\n",
    "print(\"Test size: %d\" % (len(option_data) - train_size))"
   ]
  },
  {
   "cell_type": "code",
   "execution_count": 35,
   "id": "tropical-palace",
   "metadata": {},
   "outputs": [
    {
     "name": "stdout",
     "output_type": "stream",
     "text": [
      "(141142, 29)\n",
      "(35286, 29)\n"
     ]
    }
   ],
   "source": [
    "#split data to train data and test data\n",
    "option_data_train = option_data[:train_size]\n",
    "option_data_test = option_data[train_size:]\n",
    "print(option_data_train.shape)\n",
    "print(option_data_test.shape)"
   ]
  },
  {
   "cell_type": "code",
   "execution_count": 36,
   "id": "dated-aviation",
   "metadata": {},
   "outputs": [],
   "source": [
    "option_data_train.to_csv('paper_data_train.csv')\n",
    "option_data_test.to_csv('paper_data_test.csv')"
   ]
  },
  {
   "cell_type": "code",
   "execution_count": 9,
   "id": "liquid-program",
   "metadata": {},
   "outputs": [],
   "source": [
    "test_data = pd.read_csv(\"paper_data_full.csv\")"
   ]
  },
  {
   "cell_type": "code",
   "execution_count": 53,
   "id": "eight-discretion",
   "metadata": {},
   "outputs": [],
   "source": [
    "VDOTM = test_data[test_data['moneyness_ratio'] < 0.85]\n",
    "DOTM = test_data[(test_data['moneyness_ratio'] >= 0.85) & (test_data['moneyness_ratio'] < 0.9)]\n",
    "OTM = test_data[(test_data['moneyness_ratio'] >= 0.9) & (test_data['moneyness_ratio'] < 0.95)]\n",
    "JOTM = test_data[(test_data['moneyness_ratio'] >= 0.95) & (test_data['moneyness_ratio'] < 0.99)]\n",
    "ATM = test_data[(test_data['moneyness_ratio'] >= 0.99) & (test_data['moneyness_ratio'] < 1.01)]\n",
    "JITM = test_data[(test_data['moneyness_ratio'] >= 1.01) & (test_data['moneyness_ratio'] < 1.05)]\n",
    "ITM = test_data[(test_data['moneyness_ratio'] >= 1.05) & (test_data['moneyness_ratio'] < 1.1)]\n",
    "DITM = test_data[(test_data['moneyness_ratio'] >= 1.1) & (test_data['moneyness_ratio'] < 1.35)]\n",
    "VDITM = test_data[test_data['moneyness_ratio'] >= 1.35]\n",
    "\n",
    "short_term = test_data[test_data['T'] < 60]\n",
    "medium_term = test_data[(test_data['T'] >= 60) & (test_data['T'] < 180)]\n",
    "long_term = test_data[test_data['T'] >= 180]\n",
    "ex_term = test_data[test_data['T'] < 6]\n",
    "\n",
    "CO = test_data[test_data['contract_type'] == 'CO']\n",
    "PO = test_data[test_data['contract_type'] == 'PO']"
   ]
  },
  {
   "cell_type": "code",
   "execution_count": 62,
   "id": "dangerous-gazette",
   "metadata": {},
   "outputs": [
    {
     "name": "stdout",
     "output_type": "stream",
     "text": [
      "0.00020161943319838054\n",
      "0.1374198772591093\n",
      "0.5342396226415095\n",
      "0.13731856014555255\n",
      "1483\n"
     ]
    }
   ],
   "source": [
    "a = ex_term\n",
    "b = a[a['moneyness_ratio'] < 0.85]\n",
    "\n",
    "b_c = b[b['contract_type'] == 'CO']\n",
    "b_p = b[b['contract_type'] == 'PO']\n",
    "\n",
    "print(b_c['close'].mean())\n",
    "print(b_c['60days_close_vol'].mean())\n",
    "print(b_p['close'].mean())\n",
    "print(b_p['60days_close_vol'].mean())\n",
    "print(b.shape[0])"
   ]
  },
  {
   "cell_type": "code",
   "execution_count": null,
   "id": "earlier-witness",
   "metadata": {},
   "outputs": [],
   "source": [
    "VDOTM = a[a['moneyness_ratio'] < 0.85]\n",
    "DOTM = a[(a['moneyness_ratio'] >= 0.85) & (a['moneyness_ratio'] < 0.9)]\n",
    "OTM = a[(a['moneyness_ratio'] >= 0.9) & (a['moneyness_ratio'] < 0.95)]\n",
    "JOTM = a[(a['moneyness_ratio'] >= 0.95) & (a['moneyness_ratio'] < 0.99)]\n",
    "ATM = a[(a['moneyness_ratio'] >= 0.99) & (a['moneyness_ratio'] < 1.01)]\n",
    "JITM = a[(a['moneyness_ratio'] >= 1.01) & (a['moneyness_ratio'] < 1.05)]\n",
    "ITM = a[(a['moneyness_ratio'] >= 1.05) & (a['moneyness_ratio'] < 1.1)]\n",
    "DITM = a[(a['moneyness_ratio'] >= 1.1) & (a['moneyness_ratio'] < 1.35)]\n",
    "VDITM = a[a['moneyness_ratio'] >= 1.35]"
   ]
  },
  {
   "cell_type": "code",
   "execution_count": null,
   "id": "incorporated-millennium",
   "metadata": {},
   "outputs": [],
   "source": []
  }
 ],
 "metadata": {
  "kernelspec": {
   "display_name": "Python 3",
   "language": "python",
   "name": "python3"
  },
  "language_info": {
   "codemirror_mode": {
    "name": "ipython",
    "version": 3
   },
   "file_extension": ".py",
   "mimetype": "text/x-python",
   "name": "python",
   "nbconvert_exporter": "python",
   "pygments_lexer": "ipython3",
   "version": "3.6.9"
  }
 },
 "nbformat": 4,
 "nbformat_minor": 5
}
